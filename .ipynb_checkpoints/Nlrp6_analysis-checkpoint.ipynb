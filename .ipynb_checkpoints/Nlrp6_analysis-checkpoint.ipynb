{
 "metadata": {
  "name": ""
 },
 "nbformat": 3,
 "nbformat_minor": 0,
 "worksheets": [
  {
   "cells": [
    {
     "cell_type": "heading",
     "level": 1,
     "metadata": {},
     "source": [
      "Nlrp6 analysis"
     ]
    },
    {
     "cell_type": "markdown",
     "metadata": {},
     "source": [
      "The Nod-like receptor family of pattern recognition receptors, particularly Nlrp6, are important in maintaining intestinal homeostasis to protect against the development of colitis and tumorigenesis (reviewed in Chen Eur. J. Immunol. 2014. 44: 321\u2013327). To study the role of Nlrp6 in protecting against tumor formation, we used a mouse model of inflammation-induced colon tumorigenesis induced by AOM/DSS. In two separate experiments, GF WT and Nlrp6 KO mice were gavaged with whole stool from WT donors (Experiment 1) or filtered stool from WT donors (Experiment 2). Unfortunately, the mice didn't react well to the model (even the WT mice); not enough mice survived the full course of the model to get useable results. Our hypothesis is that bacteria needed to protect from the model did not correctly colonize, either because they were absent from the input stool or they didn't \"stick\" after gavage. In order to understand better what happened, we sequenced stool and input from both experiments and surveyed the communities before AOM/DSS treatment asking the following questions:\n",
      "\n",
      "1) How similar is initial inoculum to established microbiome in GF WT and NLRP6 KO mice at 14 and 28 days after gavage (in terms of richness, diversity, and distances)?\n",
      "\n",
      "2) How good was the transfer of anaerobic bacteria by gavage of fecal homogenates?"
     ]
    },
    {
     "cell_type": "heading",
     "level": 2,
     "metadata": {},
     "source": [
      "mothur sequence processing"
     ]
    },
    {
     "cell_type": "markdown",
     "metadata": {},
     "source": [
      "Make nlrp6.files text file - each line has the sample name plus the right and left fastq for that sample. In the nlrp6.names file I included only the samples needed for the two questions above. "
     ]
    },
    {
     "cell_type": "code",
     "collapsed": false,
     "input": [
      "%%bash\n",
      "cd /Users/Amanda/Documents/Grace/Nlrp6/mothur"
     ],
     "language": "python",
     "metadata": {},
     "outputs": [],
     "prompt_number": 8
    },
    {
     "cell_type": "code",
     "collapsed": false,
     "input": [
      "%%python3\n",
      "import sys \n",
      "\n",
      "names = open('/Users/Amanda/Documents/Grace/Nlrp6/mothur/nlrp6.names2', 'r')\n",
      "fastq = open('/Users/Amanda/Documents/Grace/Nlrp6/mothur/nlrp6.fastqs2', 'r')\n",
      "outfile = open('/Users/Amanda/Documents/Grace/Nlrp6/mothur/nlrp6.files2', 'wt')\n",
      "\n",
      "listofnames = []\n",
      "listofcontigs = []\n",
      "\n",
      "for line in names:\n",
      "\tname = line.strip()\n",
      "\tlistofnames.append(name)\n",
      "\t\n",
      "for row in fastq:\n",
      "\tcontig = row.strip()\n",
      "\tlistofcontigs.append(contig)\n",
      "\t\n",
      "for i in range(0,len(listofnames)):\n",
      "\tprint(listofnames[i], listofcontigs[2*i], listofcontigs[2*i+1], sep='\\t', end='\\n', file=outfile)\n",
      "\t\n",
      "names.close()\n",
      "fastq.close()\n",
      "outfile.close()"
     ],
     "language": "python",
     "metadata": {},
     "outputs": [],
     "prompt_number": 12
    },
    {
     "cell_type": "markdown",
     "metadata": {},
     "source": [
      "Use mothur to combine the contigs"
     ]
    },
    {
     "cell_type": "code",
     "collapsed": false,
     "input": [
      "%load_ext mothurmagic"
     ],
     "language": "python",
     "metadata": {},
     "outputs": [
      {
       "output_type": "stream",
       "stream": "stdout",
       "text": [
        "The mothurmagic extension is already loaded. To reload it, use:\n",
        "  %reload_ext mothurmagic\n"
       ]
      }
     ],
     "prompt_number": 3
    },
    {
     "cell_type": "markdown",
     "metadata": {},
     "source": [
      "I did the following pipeline on axiom in /mnt/EXT/Schloss-data/amanda/nlrp6"
     ]
    },
    {
     "cell_type": "raw",
     "metadata": {},
     "source": [
      "make.contigs(file=../nlrp6.files2, processors=16)\n",
      "summary.seqs(fasta=nlrp6.trim.contigs.fasta)\n",
      "\n",
      "\t\tStart\tEnd\tNBases\tAmbigs\tPolymer\tNumSeqs\n",
      "Minimum:\t1\t244\t244\t0\t3\t1\n",
      "2.5%-tile:\t1\t252\t252\t0\t4\t15964\n",
      "25%-tile:\t1\t253\t253\t0\t4\t159633\n",
      "Median: \t1\t253\t253\t0\t4\t319266\n",
      "75%-tile:\t1\t254\t254\t2\t5\t478899\n",
      "97.5%-tile:\t1\t256\t256\t12\t6\t622568\n",
      "Maximum:\t1\t503\t502\t85\t243\t638531\n",
      "Mean:\t1\t253.39\t253.39\t1.81611\t4.34797\n",
      "# of Seqs:\t638531\n"
     ]
    },
    {
     "cell_type": "raw",
     "metadata": {},
     "source": [
      "screen.seqs(fasta=nlrp6.trim.contigs.fasta, group=nlrp6.contigs.groups, maxambig=0, summary=nlrp6.trim.contigs.summary, maxlength=275, processors=16)\n",
      "\n",
      "unique.seqs(fasta=nlrp6.trim.contigs.good.fasta)\n",
      "\n",
      "count.seqs(name=nlrp6.trim.contigs.good.names, group=nlrp6.contigs.good.groups)\n",
      "summary.seqs(count=nlrp6.trim.contigs.good.count_table)\n",
      "\n",
      "\t\tStart\tEnd\tNBases\tAmbigs\tPolymer\tNumSeqs\n",
      "Minimum:\t1\t249\t249\t0\t3\t1\n",
      "2.5%-tile:\t1\t252\t252\t0\t4\t8015\n",
      "25%-tile:\t1\t253\t253\t0\t4\t80145\n",
      "Median: \t1\t253\t253\t0\t4\t160289\n",
      "75%-tile:\t1\t254\t254\t0\t5\t240433\n",
      "97.5%-tile:\t1\t255\t255\t0\t6\t312563\n",
      "Maximum:\t1\t269\t269\t0\t9\t320577\n",
      "Mean:\t1\t253.277\t253.277\t0\t4.34786\n",
      "# of unique seqs:\t115251\n",
      "total # of seqs:\t320577\n"
     ]
    },
    {
     "cell_type": "raw",
     "metadata": {},
     "source": [
      "pcr.seqs(fasta=mothurfiles/silva.bacteria.fasta, start=11894, end=25319, keepdots=F, processors=16)\n",
      "system(mv mothurfiles/silva.bacteria.pcr.fasta silva.v4.fasta)\n",
      "\n",
      "align.seqs(fasta=nlrp6.trim.contigs.good.unique.fasta, reference=silva.v4.fasta, processors=16)\n",
      "summary.seqs(fasta=nlrp6.trim.contigs.good.unique.align, count=nlrp6.trim.contigs.good.count_table)\n",
      "\n",
      "\t\tStart\tEnd\tNBases\tAmbigs\tPolymer\tNumSeqs\n",
      "Minimum:\t1231\t11549\t249\t0\t3\t1\n",
      "2.5%-tile:\t1967\t11550\t252\t0\t4\t8015\n",
      "25%-tile:\t1968\t11550\t253\t0\t4\t80145\n",
      "Median: \t1968\t11550\t253\t0\t4\t160289\n",
      "75%-tile:\t1968\t11550\t254\t0\t5\t240433\n",
      "97.5%-tile:\t1968\t11550\t255\t0\t6\t312563\n",
      "Maximum:\t1981\t12064\t269\t0\t9\t320577\n",
      "Mean:\t1966.36\t11550\t253.277\t0\t4.34786\n",
      "# of unique seqs:\t115251\n",
      "total # of seqs:\t320577\n"
     ]
    },
    {
     "cell_type": "markdown",
     "metadata": {},
     "source": [
      "Most of the sequences start at 1968 and end at 11550, but we'll still trim out those outliers."
     ]
    },
    {
     "cell_type": "raw",
     "metadata": {},
     "source": [
      "screen.seqs(fasta=nlrp6.trim.contigs.good.unique.align, count=nlrp6.trim.contigs.good.count_table, summary=nlrp6.trim.contigs.good.unique.summary, start=1968, end=11550, maxhomop=8)\n",
      "summary.seqs(fasta=current, count=current)\n",
      "\n",
      "filter.seqs(fasta=nlrp6.trim.contigs.good.unique.good.align, vertical=T, trump=., processors=16) \n",
      "\n",
      "unique.seqs(fasta=nlrp6.trim.contigs.good.unique.good.filter.fasta, count=nlrp6.trim.contigs.good.good.count_table)\n",
      "\n",
      "pre.cluster(fasta=nlrp6.trim.contigs.good.unique.good.filter.unique.fasta, count=nlrp6.trim.contigs.good.unique.good.filter.count_table, diffs=2, processors=16)\n",
      "#clusters the sequences if they have 2 differences or less to make cluster.split faster later\n",
      "\n",
      "chimera.uchime(fasta=nlrp6.trim.contigs.good.unique.good.filter.unique.precluster.fasta, count=nlrp6.trim.contigs.good.unique.good.filter.unique.precluster.count_table, dereplicate=t)\n",
      "#uses the UCHIME algorithm to detect chimeras. Will use the most abundant sequence as a reference and flag any sequences that are the combination/reverse of more abundant sequences\n",
      "\n",
      "remove.seqs(fasta=nlrp6.trim.contigs.good.unique.good.filter.unique.precluster.fasta, accnos=nlrp6.trim.contigs.good.unique.good.filter.unique.precluster.uchime.accnos) #removes sequences from the unique file that were already removed from the count file\n",
      "summary.seqs(fasta=current, count=current) \n",
      "\n",
      "classify.seqs(fasta=nlrp6.trim.contigs.good.unique.good.filter.unique.precluster.pick.fasta, count=nlrp6.trim.contigs.good.unique.good.filter.unique.precluster.uchime.pick.count_table, reference=mothurfiles/trainset9_032012.pds.fasta, taxonomy=mothurfiles/trainset9_032012.pds.tax, cutoff=80, processors=16)\n",
      "#classifies sequences into domains based on reference alignment\n",
      "\n",
      "remove.lineage(fasta=nlrp6.trim.contigs.good.unique.good.filter.unique.precluster.pick.fasta, count=nlrp6.trim.contigs.good.unique.good.filter.unique.precluster.uchime.pick.count_table, taxonomy=nlrp6.trim.contigs.good.unique.good.filter.unique.precluster.pick.pds.wang.taxonomy, taxon=Chloroplast-Mitochondria-unknown-Archaea-Eukaryota)\n",
      "summary.seqs(fasta=current, count=current)\n",
      "\n",
      "\t\tStart\tEnd\tNBases\tAmbigs\tPolymer\tNumSeqs\n",
      "Minimum:\t1\t460\t248\t0\t3\t1\n",
      "2.5%-tile:\t1\t460\t252\t0\t4\t7598\n",
      "25%-tile:\t1\t460\t252\t0\t4\t75974\n",
      "Median: \t1\t460\t253\t0\t4\t151948\n",
      "75%-tile:\t1\t460\t253\t0\t5\t227922\n",
      "97.5%-tile:\t1\t460\t255\t0\t6\t296298\n",
      "Maximum:\t4\t460\t261\t0\t8\t303895\n",
      "Mean:\t1.00016\t460\t252.879\t0\t4.35366\n",
      "# of unique seqs:\t41806\n",
      "total # of seqs:\t303895"
     ]
    },
    {
     "cell_type": "raw",
     "metadata": {},
     "source": [
      "#be careful that these names are right because will remove the old file\n",
      "system(mv nlrp6.trim.contigs.good.unique.good.filter.unique.precluster.pick.pick.fasta nlrp6.final.fasta)\n",
      "system(mv nlrp6.trim.contigs.good.unique.good.filter.unique.precluster.pick.pds.wang.pick.taxonomy nlrp6.final.taxonomy)\n",
      "system(mv nlrp6.trim.contigs.good.unique.good.filter.unique.precluster.uchime.pick.pick.count_table nlrp6.final.count_table)"
     ]
    },
    {
     "cell_type": "markdown",
     "metadata": {},
     "source": [
      "Create OTUS- this will create a shared file that clusters the sequences based on 97% sequence identity\n",
      "\n"
     ]
    },
    {
     "cell_type": "raw",
     "metadata": {},
     "source": [
      "cluster.split(fasta=/mnt/EXT/Schloss-data/amanda/nlrp6/nlrp6.final.fasta, count=/mnt/EXT/Schloss-data/amanda/nlrp6/nlrp6.final.count_table, taxonomy=/mnt/EXT/Schloss-data/amanda/nlrp6/nlrp6.final.taxonomy, splitmethod=classify, taxlevel=4, cutoff=0.15, processors=16)\n",
      "#had to remove the header?\n",
      "make.shared(list=/mnt/EXT/Schloss-data/amanda/nlrp6/nlrp6.final.an.unique_list.list, count=/mnt/EXT/Schloss-data/amanda/nlrp6/nlrp6.final.count_table, label=.03) \n",
      "#picking a different label will change the clustering identity\n"
     ]
    },
    {
     "cell_type": "markdown",
     "metadata": {},
     "source": []
    },
    {
     "cell_type": "heading",
     "level": 2,
     "metadata": {},
     "source": [
      "Establishment of inoculum"
     ]
    },
    {
     "cell_type": "code",
     "collapsed": false,
     "input": [
      "%load_ext mothurmagic"
     ],
     "language": "python",
     "metadata": {},
     "outputs": [],
     "prompt_number": 1
    },
    {
     "cell_type": "code",
     "collapsed": false,
     "input": [
      "%%mothur\n",
      "summary.single(shared=/Users/Amanda/Documents/Grace/Nlrp6/analysis/nlrp6.final.an.unique_list.0.03.subsample.shared, size=2713, calc=invsimpson-sobs)\n",
      "system(rm /Users/Amanda/Documents/Grace/Nlrp6/analysis/*.rabund)"
     ],
     "language": "python",
     "metadata": {},
     "outputs": [
      {
       "output_type": "stream",
       "stream": "stdout",
       "text": [
        "mothur > summary.single(shared=/Users/Amanda/Documents/Grace/Nlrp6/analysis/nlrp6.final.an.unique_list.0.03.subsample.shared, size=2713, calc=invsimpson-sobs)\n",
        "\n",
        "Processing group 711_GF_B6_101113_D28\n",
        "\n",
        "0.03\n",
        "\n",
        "Processing group 711_GF_B6_92713_D14\n",
        "\n",
        "0.03\n",
        "\n",
        "Processing group 728_GF_B6_101113_D28\n",
        "\n",
        "0.03\n",
        "\n",
        "Processing group 728_GF_B6_92713_D14\n",
        "\n",
        "0.03\n",
        "\n",
        "Processing group 8665_101113_D28\n",
        "\n",
        "0.03\n",
        "\n",
        "Processing group 8665_92713_D14\n",
        "\n",
        "0.03\n",
        "\n",
        "Processing group 8666_101113_D28\n",
        "\n",
        "0.03\n",
        "\n",
        "Processing group 8666_92713_D14\n",
        "\n",
        "0.03\n",
        "\n",
        "Processing group 8667_92713_D14\n",
        "\n",
        "0.03\n",
        "\n",
        "Processing group 8668_GF_B6_101113_D28\n",
        "\n",
        "0.03\n",
        "\n",
        "Processing group 8668_GF_B6_92713_D14\n",
        "\n",
        "0.03\n",
        "\n",
        "Processing group 8801_122313_D28\n",
        "\n",
        "0.03\n",
        "\n",
        "Processing group 8801_GF_B6_12913_D14\n",
        "\n",
        "0.03\n",
        "\n",
        "Processing group 8802_GF_B6_12913_D14\n",
        "\n",
        "0.03\n",
        "\n",
        "Processing group 8803_122313_D28\n",
        "\n",
        "0.03\n",
        "\n",
        "Processing group 8803_GF_B6_12913_D14\n",
        "\n",
        "0.03\n",
        "\n",
        "Processing group 8804_122313_D28\n",
        "\n",
        "0.03\n",
        "\n",
        "Processing group 8804_GF_B6_12913_D14\n",
        "\n",
        "0.03\n",
        "\n",
        "Processing group 8805_122313_D28\n",
        "\n",
        "0.03\n",
        "\n",
        "Processing group 8805_GF_B6_12913_D14\n",
        "\n",
        "0.03\n",
        "\n",
        "Processing group 8806_GF_Nlp6_121913_D14\n",
        "\n",
        "0.03\n",
        "\n",
        "Processing group 8807_122313_D28\n",
        "\n",
        "0.03\n",
        "\n",
        "Processing group 8807_GF_Nlp6_121913_D14\n",
        "\n",
        "0.03\n",
        "\n",
        "Processing group 8808_GF_Nlp6_121913_D14\n",
        "\n",
        "0.03\n",
        "\n",
        "Processing group 8809_GF_Nlp6_121913_D14\n",
        "\n",
        "0.03\n",
        "\n",
        "Processing group 8810_122313_D28\n",
        "\n",
        "0.03\n",
        "\n",
        "Processing group WT_filtered_stool_donors_gavaged_112513\n",
        "\n",
        "0.03\n",
        "\n",
        "Processing group WT_stool_donors_gavaged_91613\n",
        "\n",
        "0.03\n",
        "\n",
        "Output File Names:\n",
        "/Users/Amanda/Documents/Grace/Nlrp6/analysis/nlrp6.final.an.unique_list.0.03.subsample.groups.summary\n",
        "\n",
        "\n",
        "mothur > system(rm /Users/Amanda/Documents/Grace/Nlrp6/analysis/*.rabund)\n",
        "\n",
        "\n",
        "mothur > quit()\n"
       ]
      }
     ],
     "prompt_number": 16
    },
    {
     "cell_type": "code",
     "collapsed": false,
     "input": [
      "%load_ext rmagic"
     ],
     "language": "python",
     "metadata": {},
     "outputs": [
      {
       "output_type": "stream",
       "stream": "stdout",
       "text": [
        "The rmagic extension is already loaded. To reload it, use:\n",
        "  %reload_ext rmagic\n"
       ]
      }
     ],
     "prompt_number": 13
    },
    {
     "cell_type": "code",
     "collapsed": false,
     "input": [
      "%%R\n",
      "library(\"sciplot\", lib.loc=\"/Library/Frameworks/R.framework/Versions/3.0/Resources/library\")\n",
      "summary <- read.table('/Users/Amanda/Documents/Grace/Nlrp6/analysis/nlrp6.final.an.unique_list.0.03.subsample.groups.summary', header=T)\n",
      "metadata <- read.table('/Users/Amanda/Documents/Grace/Nlrp6/analysis/nlrp6.metadata.subset.txt', header=T)\n",
      "s <- merge(summary, metadata, by = 'group')\n",
      "\n",
      "bargraph.CI(s$Experiment, s$invsimpson, s$day, main='Inverse Simpson in Input vs. Day 14 and 28', xlab='Experiment', ylab='Inverse simpson index', col=c('red', 'blue', 'black'))\n",
      "legend('topright', legend=c('Input', 'Day 14', 'Day 28'), col=c('red','blue', 'black'), pch=18)\n",
      "\n",
      "bargraph.CI(s$Experiment, s$sobs, s$day, main='Richness in Input vs. Day 14 and 28', xlab='Experiment', ylab='Number of OTUs', col=c('red', 'blue', 'black'))\n",
      "legend('topright', legend=c('Input', 'Day 14', 'Day 28'), col=c('red','blue', 'black'), pch=18)\n",
      "\n"
     ],
     "language": "python",
     "metadata": {},
     "outputs": [
      {
       "metadata": {},
       "output_type": "display_data",
       "png": "[encoded data removed]"
      },
      {
       "metadata": {},
       "output_type": "display_data",
       "png": "[encoded data removed]"
      }
     ],
     "prompt_number": 17
    },
    {
     "cell_type": "markdown",
     "metadata": {},
     "source": [
      "Comparison of diversity and richness between input inoculum and fecal samples at day 14 and 28 (n=3 for each experiment). The diversity of the inoculums was very different, with the filtered stool having many fewer OTUs. Despite the large difference in input, by day 28 the two groups accumulated a similar level of diversity.\n",
      "\n",
      "I subsampled to 2713 because there were a few samples in the second experiment that had very few sequences - probably from a bad extraction. These were removed from the analysis after subsampling. "
     ]
    },
    {
     "cell_type": "heading",
     "level": 3,
     "metadata": {},
     "source": [
      "Distances between inoculum and mouse samples"
     ]
    },
    {
     "cell_type": "code",
     "collapsed": false,
     "input": [
      "%%mothur\n",
      "dist.shared(shared=/Users/Amanda/Documents/Grace/Nlrp6/analysis/nlrp6.final.an.unique_list.0.03.subsample.shared, calc=thetayc)\n",
      "nmds(phylip=current)"
     ],
     "language": "python",
     "metadata": {},
     "outputs": [
      {
       "output_type": "stream",
       "stream": "stdout",
       "text": [
        "mothur > dist.shared(shared=/Users/Amanda/Documents/Grace/Nlrp6/analysis/nlrp6.final.an.unique_list.0.03.subsample.shared, calc=thetayc)\n",
        "\n",
        "Using 1 processors.\n",
        "0.03\n",
        "\n",
        "Output File Names:\n",
        "/Users/Amanda/Documents/Grace/Nlrp6/analysis/nlrp6.final.an.unique_list.0.03.subsample.thetayc.0.03.lt.dist\n",
        "\n",
        "\n",
        "mothur > nmds(phylip=current)\n",
        "Using /Users/Amanda/Documents/Grace/Nlrp6/analysis/nlrp6.final.an.unique_list.0.03.subsample.thetayc.0.03.lt.dist as input file for the phylip parameter.\n",
        "Processing Dimension: 2\n",
        "1\n",
        "2\n",
        "3\n",
        "4\n",
        "5\n",
        "6\n",
        "7\n",
        "8\n",
        "9\n",
        "10\n",
        "\n",
        "Number of dimensions:\t2\n",
        "Lowest stress :\t0.207284\n",
        "R-squared for configuration:\t0.832095\n",
        "\n",
        "Output File Names:\n",
        "/Users/Amanda/Documents/Grace/Nlrp6/analysis/nlrp6.final.an.unique_list.0.03.subsample.thetayc.0.03.lt.nmds.iters\n",
        "/Users/Amanda/Documents/Grace/Nlrp6/analysis/nlrp6.final.an.unique_list.0.03.subsample.thetayc.0.03.lt.nmds.stress\n",
        "/Users/Amanda/Documents/Grace/Nlrp6/analysis/nlrp6.final.an.unique_list.0.03.subsample.thetayc.0.03.lt.nmds.axes\n",
        "\n",
        "\n",
        "mothur > quit()\n"
       ]
      }
     ],
     "prompt_number": 18
    },
    {
     "cell_type": "code",
     "collapsed": false,
     "input": [
      "%%R\n",
      "axes<- read.table('/Users/Amanda/Documents/Grace/Nlrp6/analysis/nlrp6.final.an.unique_list.0.03.subsample.thetayc.0.03.lt.nmds.axes', header=T)\n",
      "metadata <- read.table('/Users/Amanda/Documents/Grace/Nlrp6/analysis/nlrp6.metadata.subset.txt', header=T)\n",
      "nmds<- merge(axes, metadata, by=\"group\")\n",
      "\n",
      "exp1<-nmds[nmds$Experiment =='1', c(1:7)] #create parsed data frames\n",
      "exp2 <- nmds[nmds$Experiment =='2', c(1:7)]\n",
      "input1<- exp1[exp1$day == '0', c(1:7)]\n",
      "input2<- exp2[exp2$day == '0', c(1:7)]\n",
      "day14a <- exp1[exp1$day == '14', c(1:7)]\n",
      "day14b <- exp2[exp2$day == '14', c(1:7)]\n",
      "day28a <- exp1[exp1$day == '28', c(1:7)]\n",
      "day28b <- exp2[exp2$day == '28', c(1:7)]\n",
      "\n",
      "\n",
      "#compare experiments over days\n",
      "plot(nmds$axis1, nmds$axis2, main='Colonization of GF mice with 2 inoculum', xlab='Axis1', ylab='Axis2')\n",
      "points(input1$axis1, input1$axis2, pch=16, col='red')\n",
      "points(input2$axis1, input2$axis2, pch=17, cex=1.5, col='red')\n",
      "points(day14a$axis1, day14a$axis2, pch=16, col='blue')\n",
      "points(day14b$axis1, day14b$axis2, pch=17,cex=1.5, col='blue')\n",
      "points(day28a$axis1, day28a$axis2, pch=16, col='black')\n",
      "points(day28b$axis1, day28b$axis2, pch=17,cex=1.5, col='black')\n",
      "legend('topright', col=c('black', 'black', 'red', 'blue', 'black'), legend=c('Experiment1','Experiment2','input', 'Day14', 'Day28'), pch=c(16, 17, 16,16,16))\n",
      "\n"
     ],
     "language": "python",
     "metadata": {},
     "outputs": [
      {
       "metadata": {},
       "output_type": "display_data",
       "png": "[encoded data removed]"
      }
     ],
     "prompt_number": 34
    },
    {
     "cell_type": "markdown",
     "metadata": {},
     "source": [
      "Distance between inoculum (red) and Day 14 (blue) and 28 (black) in mice colonized with either stool (experiment1, circles) or filtered stool (experiment 2, triangles). The input communities are very different from each other, either because they came from mice with different initial communities or the treatments affected them differently. Experiment 2 appears to have more of a change, as suggested by the alpha diversity in the previous figures. Experiment 1 seems to stabilize more quickly, but Experiment 2 had some samples which are very close to the input community."
     ]
    },
    {
     "cell_type": "heading",
     "level": 2,
     "metadata": {},
     "source": [
      "Compositional analysis of anaerobic bacteria"
     ]
    },
    {
     "cell_type": "code",
     "collapsed": false,
     "input": [
      "%%mothur\n",
      "\n",
      "\n"
     ],
     "language": "python",
     "metadata": {},
     "outputs": [
      {
       "output_type": "stream",
       "stream": "stdout",
       "text": [
        "mothur > classify.otu(list=/Users/Amanda/Documents/Grace/Nlrp6/analysis/nlrp6.final.an.unique_list.list, taxonomy=/Users/Amanda/Documents/Grace/Nlrp6/analysis/nlrp6.final.taxonomy, label=0.03)\n",
        "reftaxonomy is not required, but if given will keep the rankIDs in the summary file static.\n",
        "0.03\t2822\n",
        "\n",
        "Output File Names:\n",
        "/Users/Amanda/Documents/Grace/Nlrp6/analysis/nlrp6.final.an.unique_list.0.03.cons.taxonomy\n",
        "/Users/Amanda/Documents/Grace/Nlrp6/analysis/nlrp6.final.an.unique_list.0.03.cons.tax.summary\n",
        "\n",
        "\n",
        "mothur > quit()\n"
       ]
      }
     ],
     "prompt_number": 41
    },
    {
     "cell_type": "code",
     "collapsed": false,
     "input": [],
     "language": "python",
     "metadata": {},
     "outputs": []
    }
   ],
   "metadata": {}
  }
 ]
}