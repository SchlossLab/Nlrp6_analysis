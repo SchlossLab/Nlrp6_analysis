{
 "metadata": {
  "name": ""
 },
 "nbformat": 3,
 "nbformat_minor": 0,
 "worksheets": [
  {
   "cells": [
    {
     "cell_type": "heading",
     "level": 1,
     "metadata": {},
     "source": [
      "Nlrp6 analysis"
     ]
    },
    {
     "cell_type": "markdown",
     "metadata": {},
     "source": [
      "The Nod-like receptor family of pattern recognition receptors, particularly Nlrp6, are important in maintaining intestinal homeostasis to protect against the development of colitis and tumorigenesis (reviewed in Chen Eur. J. Immunol. 2014. 44: 321\u2013327). To study the role of Nlrp6 in protecting against tumor formation, we used a mouse model of inflammation-induced colon tumorigenesis induced by AOM/DSS. In two separate experiments, GF WT and Nlrp6 KO mice were gavaged with whole stool from WT donors (Experiment 1) or filtered stool from WT donors (Experiment 2). Unfortunately, the mice didn't react well to the model (even the WT mice); not enough mice survived the full course of the model to get useable results. Our hypothesis is that bacteria needed to protect from the model did not correctly colonize, either because they were absent from the input stool or they didn't \"stick\" after gavage. In order to understand better what happened, we sequenced stool and input from both experiments and surveyed the communities before AOM/DSS treatment asking the following questions:\n",
      "\n",
      "1) How similar is initial inoculum to established microbiome in GF WT and NLRP6 KO mice at 14 and 28 days after gavage (in terms of richness, diversity, and distances)?\n",
      "\n",
      "2) How good was the transfer of anaerobic bacteria by gavage of fecal homogenates?"
     ]
    },
    {
     "cell_type": "heading",
     "level": 2,
     "metadata": {},
     "source": [
      "mothur sequence processing"
     ]
    },
    {
     "cell_type": "markdown",
     "metadata": {},
     "source": [
      "Make nlrp6.files text file - each line has the sample name plus the right and left fastq for that sample. In the nlrp6.names file I included only the samples needed for the two questions above. "
     ]
    },
    {
     "cell_type": "code",
     "collapsed": false,
     "input": [
      "%%bash\n",
      "cd /Users/Amanda/Documents/Grace/Nlrp6/mothur"
     ],
     "language": "python",
     "metadata": {},
     "outputs": [],
     "prompt_number": 8
    },
    {
     "cell_type": "code",
     "collapsed": false,
     "input": [
      "%%python3\n",
      "import sys \n",
      "\n",
      "names = open('/Users/Amanda/Documents/Grace/Nlrp6/mothur/nlrp6.names2', 'r')\n",
      "fastq = open('/Users/Amanda/Documents/Grace/Nlrp6/mothur/nlrp6.fastqs2', 'r')\n",
      "outfile = open('/Users/Amanda/Documents/Grace/Nlrp6/mothur/nlrp6.files2', 'wt')\n",
      "\n",
      "listofnames = []\n",
      "listofcontigs = []\n",
      "\n",
      "for line in names:\n",
      "\tname = line.strip()\n",
      "\tlistofnames.append(name)\n",
      "\t\n",
      "for row in fastq:\n",
      "\tcontig = row.strip()\n",
      "\tlistofcontigs.append(contig)\n",
      "\t\n",
      "for i in range(0,len(listofnames)):\n",
      "\tprint(listofnames[i], listofcontigs[2*i], listofcontigs[2*i+1], sep='\\t', end='\\n', file=outfile)\n",
      "\t\n",
      "names.close()\n",
      "fastq.close()\n",
      "outfile.close()"
     ],
     "language": "python",
     "metadata": {},
     "outputs": [],
     "prompt_number": 12
    },
    {
     "cell_type": "code",
     "collapsed": false,
     "input": [],
     "language": "python",
     "metadata": {},
     "outputs": []
    }
   ],
   "metadata": {}
  }
 ]
}