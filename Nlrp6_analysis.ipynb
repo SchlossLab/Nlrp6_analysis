{
 "metadata": {
  "name": ""
 },
 "nbformat": 3,
 "nbformat_minor": 0,
 "worksheets": [
  {
   "cells": [
    {
     "cell_type": "heading",
     "level": 1,
     "metadata": {},
     "source": [
      "Nlrp6 analysis"
     ]
    },
    {
     "cell_type": "markdown",
     "metadata": {},
     "source": [
      "The Nod-like receptor family of pattern recognition receptors, particularly Nlrp6, are important in maintaining intestinal homeostasis to protect against the development of colitis and tumorigenesis (reviewed in Chen Eur. J. Immunol. 2014. 44: 321\u2013327). To study the role of Nlrp6 in protecting against tumor formation, we used a mouse model of inflammation-induced colon tumorigenesis induced by AOM/DSS. In two separate experiments, GF WT and Nlrp6 KO mice were gavaged with whole stool from WT donors (Experiment 1) or filtered stool from WT donors (Experiment 2). Unfortunately, the mice didn't react well to the model (even the WT mice); not enough mice survived the full course of the model to get useable results. Our hypothesis is that bacteria needed to protect from the model did not correctly colonize, either because they were absent from the input stool or they didn't \"stick\" after gavage. In order to understand better what happened, we sequenced stool and input from both experiments and surveyed the communities before AOM/DSS treatment asking the following questions:\n",
      "\n",
      "1) How similar is initial inoculum to established microbiome in GF WT and NLRP6 KO mice at 14 and 28 days after gavage (in terms of richness, diversity, and distances)?\n",
      "\n",
      "2) How good was the transfer of anaerobic bacteria by gavage of fecal homogenates?"
     ]
    },
    {
     "cell_type": "heading",
     "level": 2,
     "metadata": {},
     "source": [
      "mothur sequence processing"
     ]
    },
    {
     "cell_type": "markdown",
     "metadata": {},
     "source": [
      "Make nlrp6.files text file - each line has the sample name plus the right and left fastq for that sample. In the nlrp6.names file I included only the samples needed for the two questions above. "
     ]
    },
    {
     "cell_type": "code",
     "collapsed": false,
     "input": [
      "%%bash\n",
      "cd /Users/Amanda/Documents/Grace/Nlrp6/mothur"
     ],
     "language": "python",
     "metadata": {},
     "outputs": [],
     "prompt_number": 8
    },
    {
     "cell_type": "code",
     "collapsed": false,
     "input": [
      "%%python3\n",
      "import sys \n",
      "\n",
      "names = open('/Users/Amanda/Documents/Grace/Nlrp6/mothur/nlrp6.names2', 'r')\n",
      "fastq = open('/Users/Amanda/Documents/Grace/Nlrp6/mothur/nlrp6.fastqs2', 'r')\n",
      "outfile = open('/Users/Amanda/Documents/Grace/Nlrp6/mothur/nlrp6.files2', 'wt')\n",
      "\n",
      "listofnames = []\n",
      "listofcontigs = []\n",
      "\n",
      "for line in names:\n",
      "\tname = line.strip()\n",
      "\tlistofnames.append(name)\n",
      "\t\n",
      "for row in fastq:\n",
      "\tcontig = row.strip()\n",
      "\tlistofcontigs.append(contig)\n",
      "\t\n",
      "for i in range(0,len(listofnames)):\n",
      "\tprint(listofnames[i], listofcontigs[2*i], listofcontigs[2*i+1], sep='\\t', end='\\n', file=outfile)\n",
      "\t\n",
      "names.close()\n",
      "fastq.close()\n",
      "outfile.close()"
     ],
     "language": "python",
     "metadata": {},
     "outputs": [],
     "prompt_number": 12
    },
    {
     "cell_type": "markdown",
     "metadata": {},
     "source": [
      "Use mothur to combine the contigs"
     ]
    },
    {
     "cell_type": "code",
     "collapsed": false,
     "input": [
      "%load_ext mothurmagic"
     ],
     "language": "python",
     "metadata": {},
     "outputs": [
      {
       "output_type": "stream",
       "stream": "stdout",
       "text": [
        "The mothurmagic extension is already loaded. To reload it, use:\n",
        "  %reload_ext mothurmagic\n"
       ]
      }
     ],
     "prompt_number": 3
    },
    {
     "cell_type": "markdown",
     "metadata": {},
     "source": [
      "I did the following pipeline on axiom in /mnt/EXT/Schloss-data/amanda/nlrp6"
     ]
    },
    {
     "cell_type": "raw",
     "metadata": {},
     "source": [
      "make.contigs(file=../nlrp6.files2, processors=16)\n",
      "summary.seqs(fasta=nlrp6.trim.contigs.fasta)\n",
      "\n",
      "\t\tStart\tEnd\tNBases\tAmbigs\tPolymer\tNumSeqs\n",
      "Minimum:\t1\t244\t244\t0\t3\t1\n",
      "2.5%-tile:\t1\t252\t252\t0\t4\t15964\n",
      "25%-tile:\t1\t253\t253\t0\t4\t159633\n",
      "Median: \t1\t253\t253\t0\t4\t319266\n",
      "75%-tile:\t1\t254\t254\t2\t5\t478899\n",
      "97.5%-tile:\t1\t256\t256\t12\t6\t622568\n",
      "Maximum:\t1\t503\t502\t85\t243\t638531\n",
      "Mean:\t1\t253.39\t253.39\t1.81611\t4.34797\n",
      "# of Seqs:\t638531\n"
     ]
    },
    {
     "cell_type": "raw",
     "metadata": {},
     "source": [
      "screen.seqs(fasta=nlrp6.trim.contigs.fasta, group=nlrp6.contigs.groups, maxambig=0, summary=nlrp6.trim.contigs.summary, maxlength=275, processors=16)\n",
      "\n",
      "unique.seqs(fasta=nlrp6.trim.contigs.good.fasta)\n",
      "\n",
      "count.seqs(name=nlrp6.trim.contigs.good.names, group=nlrp6.contigs.good.groups)\n",
      "summary.seqs(count=nlrp6.trim.contigs.good.count_table)\n",
      "\n",
      "\t\tStart\tEnd\tNBases\tAmbigs\tPolymer\tNumSeqs\n",
      "Minimum:\t1\t249\t249\t0\t3\t1\n",
      "2.5%-tile:\t1\t252\t252\t0\t4\t8015\n",
      "25%-tile:\t1\t253\t253\t0\t4\t80145\n",
      "Median: \t1\t253\t253\t0\t4\t160289\n",
      "75%-tile:\t1\t254\t254\t0\t5\t240433\n",
      "97.5%-tile:\t1\t255\t255\t0\t6\t312563\n",
      "Maximum:\t1\t269\t269\t0\t9\t320577\n",
      "Mean:\t1\t253.277\t253.277\t0\t4.34786\n",
      "# of unique seqs:\t115251\n",
      "total # of seqs:\t320577\n"
     ]
    },
    {
     "cell_type": "raw",
     "metadata": {},
     "source": [
      "pcr.seqs(fasta=mothurfiles/silva.bacteria.fasta, start=11894, end=25319, keepdots=F, processors=16)\n",
      "system(mv mothurfiles/silva.bacteria.pcr.fasta silva.v4.fasta)\n",
      "\n",
      "align.seqs(fasta=nlrp6.trim.contigs.good.unique.fasta, reference=silva.v4.fasta, processors=16)\n",
      "summary.seqs(fasta=nlrp6.trim.contigs.good.unique.align, count=nlrp6.trim.contigs.good.count_table)\n",
      "\n",
      "\t\tStart\tEnd\tNBases\tAmbigs\tPolymer\tNumSeqs\n",
      "Minimum:\t1231\t11549\t249\t0\t3\t1\n",
      "2.5%-tile:\t1967\t11550\t252\t0\t4\t8015\n",
      "25%-tile:\t1968\t11550\t253\t0\t4\t80145\n",
      "Median: \t1968\t11550\t253\t0\t4\t160289\n",
      "75%-tile:\t1968\t11550\t254\t0\t5\t240433\n",
      "97.5%-tile:\t1968\t11550\t255\t0\t6\t312563\n",
      "Maximum:\t1981\t12064\t269\t0\t9\t320577\n",
      "Mean:\t1966.36\t11550\t253.277\t0\t4.34786\n",
      "# of unique seqs:\t115251\n",
      "total # of seqs:\t320577\n"
     ]
    },
    {
     "cell_type": "markdown",
     "metadata": {},
     "source": [
      "Most of the sequences start at 1968 and end at 11550, but we'll still trim out those outliers."
     ]
    },
    {
     "cell_type": "raw",
     "metadata": {},
     "source": [
      "screen.seqs(fasta=nlrp6.trim.contigs.good.unique.align, count=nlrp6.trim.contigs.good.count_table, summary=nlrp6.trim.contigs.good.unique.summary, start=1968, end=11550, maxhomop=8)\n",
      "summary.seqs(fasta=current, count=current)\n",
      "\n",
      "filter.seqs(fasta=nlrp6.trim.contigs.good.unique.good.align, vertical=T, trump=., processors=16) \n",
      "\n",
      "unique.seqs(fasta=nlrp6.trim.contigs.good.unique.good.filter.fasta, count=nlrp6.trim.contigs.good.good.count_table)\n",
      "\n",
      "pre.cluster(fasta=nlrp6.trim.contigs.good.unique.good.filter.unique.fasta, count=nlrp6.trim.contigs.good.unique.good.filter.count_table, diffs=2, processors=16)\n",
      "#clusters the sequences if they have 2 differences or less to make cluster.split faster later\n",
      "\n",
      "chimera.uchime(fasta=nlrp6.trim.contigs.good.unique.good.filter.unique.precluster.fasta, count=nlrp6.trim.contigs.good.unique.good.filter.unique.precluster.count_table, dereplicate=t)\n",
      "#uses the UCHIME algorithm to detect chimeras. Will use the most abundant sequence as a reference and flag any sequences that are the combination/reverse of more abundant sequences\n",
      "\n",
      "remove.seqs(fasta=nlrp6.trim.contigs.good.unique.good.filter.unique.precluster.fasta, accnos=nlrp6.trim.contigs.good.unique.good.filter.unique.precluster.uchime.accnos) #removes sequences from the unique file that were already removed from the count file\n",
      "summary.seqs(fasta=current, count=current) \n",
      "\n",
      "classify.seqs(fasta=nlrp6.trim.contigs.good.unique.good.filter.unique.precluster.pick.fasta, count=nlrp6.trim.contigs.good.unique.good.filter.unique.precluster.uchime.pick.count_table, reference=mothurfiles/trainset9_032012.pds.fasta, taxonomy=mothurfiles/trainset9_032012.pds.tax, cutoff=80, processors=16)\n",
      "#classifies sequences into domains based on reference alignment\n",
      "\n",
      "remove.lineage(fasta=nlrp6.trim.contigs.good.unique.good.filter.unique.precluster.pick.fasta, count=nlrp6.trim.contigs.good.unique.good.filter.unique.precluster.uchime.pick.count_table, taxonomy=nlrp6.trim.contigs.good.unique.good.filter.unique.precluster.pick.pds.wang.taxonomy, taxon=Chloroplast-Mitochondria-unknown-Archaea-Eukaryota)\n",
      "summary.seqs(fasta=current, count=current)\n",
      "\n",
      "\t\tStart\tEnd\tNBases\tAmbigs\tPolymer\tNumSeqs\n",
      "Minimum:\t1\t460\t248\t0\t3\t1\n",
      "2.5%-tile:\t1\t460\t252\t0\t4\t7598\n",
      "25%-tile:\t1\t460\t252\t0\t4\t75974\n",
      "Median: \t1\t460\t253\t0\t4\t151948\n",
      "75%-tile:\t1\t460\t253\t0\t5\t227922\n",
      "97.5%-tile:\t1\t460\t255\t0\t6\t296298\n",
      "Maximum:\t4\t460\t261\t0\t8\t303895\n",
      "Mean:\t1.00016\t460\t252.879\t0\t4.35366\n",
      "# of unique seqs:\t41806\n",
      "total # of seqs:\t303895"
     ]
    },
    {
     "cell_type": "raw",
     "metadata": {},
     "source": [
      "#be careful that these names are right because will remove the old file\n",
      "system(mv nlrp6.trim.contigs.good.unique.good.filter.unique.precluster.pick.pick.fasta nlrp6.final.fasta)\n",
      "system(mv nlrp6.trim.contigs.good.unique.good.filter.unique.precluster.pick.pds.wang.pick.taxonomy nlrp6.final.taxonomy)\n",
      "system(mv nlrp6.trim.contigs.good.unique.good.filter.unique.precluster.uchime.pick.pick.count_table nlrp6.final.count_table)"
     ]
    },
    {
     "cell_type": "markdown",
     "metadata": {},
     "source": [
      "Create OTUS- this will create a shared file that clusters the sequences based on 97% sequence identity\n",
      "\n"
     ]
    },
    {
     "cell_type": "code",
     "collapsed": false,
     "input": [
      "cluster.split(fasta=/mnt/EXT/Schloss-data/amanda/nlrp6/nlrp6.final.fasta, count=/mnt/EXT/Schloss-data/amanda/nlrp6/nlrp6.final.count_table, taxonomy=/mnt/EXT/Schloss-data/amanda/nlrp6/nlrp6.final.taxonomy, splitmethod=classify, taxlevel=4, cutoff=0.15, processors=16)\n",
      "make.shared(list=nlrp6.final.an.unique_list.list, count=nlrp6.final.count_table, label=.03) #picking a different label will change the clustering identity\n"
     ],
     "language": "python",
     "metadata": {},
     "outputs": []
    }
   ],
   "metadata": {}
  }
 ]
}